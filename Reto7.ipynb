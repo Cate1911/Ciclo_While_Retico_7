{
 "cells": [
  {
   "cell_type": "code",
   "execution_count": null,
   "metadata": {},
   "outputs": [],
   "source": [
    "#Listado de números del 1 al 100 con su respectivo cuadrado\n",
    "i : int = 0 #iniciaiza y declara la variable\n",
    "while (i < 100) : #condición\n",
    "  i += 1 #actualiza\n",
    "  cuadrado_de_i = i**2 #eleva al cuadrado i\n",
    "  print(i,cuadrado_de_i,sep = \", \") #imprime los resultados\n",
    "print(\"Ciclo terminado.\") #imprime \"Ciclo terminado cuando no se cumpla las condición\""
   ]
  },
  {
   "cell_type": "code",
   "execution_count": null,
   "metadata": {},
   "outputs": [],
   "source": [
    "#Números impares del 1 al 1000\n",
    "i : int = 1 #inicializa y declara la variable\n",
    "print(\"Los números impares desde 1 hasta 1000 son:\") #Imprime el mensaje para que el usuario se ubique qué le muestra\n",
    "while (i <= 1000) : #condición\n",
    "    print (i)\n",
    "    i += 2 #se establece que cada i+2 hay un número impar"
   ]
  },
  {
   "cell_type": "code",
   "execution_count": null,
   "metadata": {},
   "outputs": [],
   "source": [
    "#Números pares del 2 al 1000\n",
    "p : int = 2 #inicializa y declara la variable\n",
    "print(\"Los números pares desde 2 hasta 1000 son:\") #Imprime el mensaje para que el usuario se ubique qué le muestra\n",
    "while (p <= 1000) : #condición\n",
    "    print (p)\n",
    "    p += 2 #se establece que cada p+2 hay un número par"
   ]
  },
  {
   "cell_type": "code",
   "execution_count": null,
   "metadata": {},
   "outputs": [],
   "source": [
    "#Números pares en forma descendente hasta 2 que son menores o iguales a un número natural n\n",
    "n = int (input(\"Ingrese un número entero igual o mayor a 2: \")) #pedirle al usuario que ingrese un número\n",
    "m : int = 2 #declarar e inicializar m como un entero igual a 2\n",
    "lista_pares = [] #inicializar una lista vacía que en el while se completará\n",
    "\n",
    "while n >= m: #condición\n",
    "    lista_pares.append(m) #agregar todos los m a la lista\n",
    "    m += 2 #actualizar m\n",
    "\n",
    "lista_pares.sort(reverse = True) #ordenar la lista de forma descendente\n",
    "\n",
    "print(lista_pares) #mostrar o imprimir la lista de los números pares hasta n"
   ]
  },
  {
   "cell_type": "code",
   "execution_count": null,
   "metadata": {},
   "outputs": [],
   "source": [
    "#Año en el que la población país B supere a la del país A\n",
    "#definir las variables que se tendrán en cuenta\n",
    "poblacion_a = 25000000\n",
    "poblacion_b = 18900000\n",
    "año = 2022\n",
    "\n",
    "while poblacion_a >= poblacion_b: #condición\n",
    "    poblacion_a = poblacion_a * 2/100 + poblacion_a #actualización crecimiento de la población del país a\n",
    "    poblacion_b = poblacion_b * 3/100 + poblacion_b #actualización crecimiento de la población del país b\n",
    "    año +=1 #actualización del año después de hallar la actualización de las poblaciones de los países\n",
    "\n",
    "print(\"La población del país B superará a la del país A en el año \" + str(año)) #imprimir o mostrar el año en el que la población del país B supere a la del A"
   ]
  },
  {
   "cell_type": "code",
   "execution_count": 107,
   "metadata": {},
   "outputs": [
    {
     "name": "stdout",
     "output_type": "stream",
     "text": [
      "El factorial del número 6 es 720\n"
     ]
    }
   ],
   "source": [
    "#Imprimir factorial de un numero natural dado\n",
    "n = int(input(\"Ingrese un número entero igual o mayor a 2: \")) #pedirle al usuario que ingrese un número\n",
    "factorial = 1 #definir el factorial como 1\n",
    "m = 1 #variable que se incrementará en cada iteración hasta alcanzar el valor de n\n",
    "\n",
    "while n >= m: #condición\n",
    "    factorial *= m\n",
    "    m += 1\n",
    "\n",
    "print(\"El factorial del número \"+str(n)+\" es \"+str(factorial)) #imprimir el factorial del número n"
   ]
  },
  {
   "cell_type": "code",
   "execution_count": null,
   "metadata": {},
   "outputs": [],
   "source": [
    "#Definir la función para adivinar el número\n",
    "def adivinar_numero(numero_objetivo):\n",
    "    menor = 1 #establecer el extremo inferior o el menor número que debe tomar el algoritmo\n",
    "    mayor = 100 #establecer el extremo superior o el mayor número que debe tomar el algoritmo\n",
    "\n",
    "    while True: #condición\n",
    "        intento = (menor + mayor) // 2 #inicia\n",
    "        respuesta = input(f\"¿Es {intento} tu número? (Escribe 's' si adiviné, 'm' si es mayor o 'n' si es menor): \").lower()#le pregunta al usuario para ver si actualiza o no\n",
    "        #establece nuevas condiciones según la respuesta del usuario\n",
    "        if respuesta == 's':\n",
    "            print(f\"Lo sabía, soy una genia. Tu número es {numero_objetivo}\")\n",
    "            return\n",
    "        elif respuesta == 'm':\n",
    "            menor = intento + 1\n",
    "        elif respuesta == 'n':\n",
    "            mayor = intento - 1\n",
    "        else:\n",
    "            print(\"Por favor, ingresa 's' si adiviné, 'm' si es mayor o 'n' si es menor.\")\n",
    "\n",
    "if __name__ == \"__main__\": #definir función main\n",
    "    numero_objetivo = int(input(\"Elige un número entre 1 y 100, y yo trataré de adivinarlo: \"))\n",
    "    if numero_objetivo < 1 or numero_objetivo > 100: #establecer, dentro de la función main, condiciones para la precisión en el algoritmo\n",
    "        print(\"El número debe estar en el rango de 1 a 100.\")\n",
    "    else:\n",
    "        adivinar_numero(numero_objetivo)"
   ]
  },
  {
   "cell_type": "code",
   "execution_count": null,
   "metadata": {},
   "outputs": [],
   "source": [
    "#Divisores de un número del 2 al 50\n",
    "numero = int(input(\"Ingrese un número entre el 2 y el 50: \")) #pedirle al usuario que ingrese un número\n",
    "i = 1 #definir una variable i=1\n",
    "divisores = [] #definir una lista vacía que se completará en el while\n",
    "\n",
    "while i <= numero: #condición\n",
    "    if numero % i == 0: #definir una condición dentro del while para saber los divisores del número\n",
    "        divisores.append(i) #si se cumple la condición, agregar ese i a la lista\n",
    "    i += 1 #si no se cumple la condición, se le agrega a i 1 y se continúa con la iteración\n",
    "\n",
    "print(f\"Los divisores de {numero} son {divisores}\") #imprimir lista de los divisores del número"
   ]
  },
  {
   "cell_type": "code",
   "execution_count": null,
   "metadata": {},
   "outputs": [],
   "source": [
    "#Algoritmo de números primos del 1 al 100 (con funciones)\n",
    "def numeros_primos_del_1_al_100(n : int) -> float : #definir la función para hallar los números primos del 1 al 100\n",
    "    lista_primos = [] #definir lista vacía\n",
    "    \n",
    "    for n in range(2,100): #usar bucle \"for\" para que recorra todos los números del 2 al 100\n",
    "        if n == 2:  #establecer condiciones para que imprima los resultados\n",
    "            lista_primos.append(n)\n",
    "            n += 1\n",
    "        elif n % 2 == 0:\n",
    "            n += 1\n",
    "        elif n != 3 and n % 3 == 0:\n",
    "            n += 1\n",
    "        elif n != 5 and n % 5 == 0:\n",
    "            n += 1\n",
    "        elif n != 7 and n % 7 == 0:\n",
    "            n += 1\n",
    "        elif n != 11 and n % 11 == 0:\n",
    "            n += 1\n",
    "        elif n ** 1/2 in lista_primos:\n",
    "            n += 1\n",
    "        else:\n",
    "            lista_primos.append(n) #en el else, todos los números sobrantes se incluirían en la lista vacía\n",
    "            n += 1\n",
    "    return lista_primos #la salida o lo que retorna la función\n",
    "\n",
    "if __name__ == \"__main__\": #definir la fuinción main con las variables que utilicé\n",
    "    n = 2\n",
    "    \n",
    "    lista_primos = numeros_primos_del_1_al_100(n)\n",
    "    \n",
    "    print(f\"Los números primos de 1 a 100 son {lista_primos}\") #imprimir los resultados"
   ]
  }
 ],
 "metadata": {
  "kernelspec": {
   "display_name": "Python 3",
   "language": "python",
   "name": "python3"
  },
  "language_info": {
   "codemirror_mode": {
    "name": "ipython",
    "version": 3
   },
   "file_extension": ".py",
   "mimetype": "text/x-python",
   "name": "python",
   "nbconvert_exporter": "python",
   "pygments_lexer": "ipython3",
   "version": "3.11.4"
  },
  "orig_nbformat": 4
 },
 "nbformat": 4,
 "nbformat_minor": 2
}
